{
 "cells": [
  {
   "cell_type": "code",
   "execution_count": 1,
   "metadata": {},
   "outputs": [
    {
     "name": "stdout",
     "output_type": "stream",
     "text": [
      "Nhiệt độ trong tháng:\n",
      " [21.18 29.97 17.65 14.58 28.24 13.51 26.88 16.24 13.7  10.76 11.29 22.88\n",
      " 18.65 27.41 27.88 17.52 21.04 12.36 24.21 14.93 22.41 24.32 10.93 24.58\n",
      " 25.03 27.42 10.13 27.   10.33 14.18]\n",
      "Trung bình nhiệt độ trong tháng là: 19.573666666666664\n"
     ]
    }
   ],
   "source": [
    "import numpy as np\n",
    "\n",
    "nhiet_do = np.round(np.random.uniform(10.0, 30.0, size = 30),2)\n",
    "\n",
    "print(\"Nhiệt độ trong tháng:\\n\",nhiet_do)\n",
    "print(\"Trung bình nhiệt độ trong tháng là:\", np.mean(nhiet_do))"
   ]
  },
  {
   "cell_type": "code",
   "execution_count": 2,
   "metadata": {},
   "outputs": [
    {
     "name": "stdout",
     "output_type": "stream",
     "text": [
      "Nhiệt độ ngày cao nhất trong tháng là: 29.97\n",
      "Nhiệt độ ngày thấp nhất trong tháng là: 10.13\n",
      "Ngày có nhiệt độ cao nhất trong tháng là: 2\n",
      "Ngày có nhiệt độ thấp nhất trong tháng là: 27\n"
     ]
    }
   ],
   "source": [
    "# tìm nhiệt dộ max and min\n",
    "max_temp = np.max(nhiet_do)\n",
    "min_temp = np.min(nhiet_do)\n",
    "\n",
    "# xác định ngày có nhiệt độ cao nhất và thấp nhất\n",
    "# chú ý: ngày được tính từ 1, không phai 0\n",
    "\n",
    "day_max_temp = np.argmax(nhiet_do) + 1\n",
    "day_min_temp = np.argmin(nhiet_do) + 1\n",
    "\n",
    "print(f\"Nhiệt độ ngày cao nhất trong tháng là:\", max_temp)\n",
    "print(f\"Nhiệt độ ngày thấp nhất trong tháng là:\", min_temp)\n",
    "print(f\"Ngày có nhiệt độ cao nhất trong tháng là:\", day_max_temp)\n",
    "print(f\"Ngày có nhiệt độ thấp nhất trong tháng là:\", day_min_temp)"
   ]
  },
  {
   "cell_type": "code",
   "execution_count": 3,
   "metadata": {},
   "outputs": [
    {
     "name": "stdout",
     "output_type": "stream",
     "text": [
      "Nhiệt độ chênh lệch giữa các ngày: 25\n",
      "Nhiệt độ chênh lệch co sự biến đổi nhiệt cao nhất là: 2.3900000000000006\n"
     ]
    }
   ],
   "source": [
    "# tạo mảng chứa nhiệt độ  của ngày hôm truớc ( trừ ngày cuối cùng) của mảng nhiet_do\n",
    "ngay_truoc = nhiet_do[:-1]\n",
    "\n",
    "# tao mảng chứa nhiệt độ của  ngày hôm sau ( trừ ngà đàu tiên ) của mảng nhiệt độ\n",
    "ngay_sau = nhiet_do[1:]\n",
    "\n",
    "# tính toán sự chênh lệch nhiệt độ giữa ngày hôm sau và ngày hôm trước\n",
    "chenh_lech = ngay_sau - ngay_truoc\n",
    "\n",
    "# xác định ngày có sự chênh lệch nhiệt độ lonws nhất\n",
    "dff_max = np.argmax(np.abs(chenh_lech))\n",
    "max_chenh_lech = chenh_lech[dff_max - 1]\n",
    "\n",
    "print(f\"Nhiệt độ chênh lệch giữa các ngày:\",dff_max)\n",
    "print(f\"Nhiệt độ chênh lệch co sự biến đổi nhiệt cao nhất là:\",max_chenh_lech)"
   ]
  },
  {
   "cell_type": "code",
   "execution_count": 4,
   "metadata": {},
   "outputs": [
    {
     "name": "stdout",
     "output_type": "stream",
     "text": [
      "Các ngày có nhiệt độ trên 20°C: [ 1  2  5  7 12 14 15 17 19 21 22 24 25 26 28]\n",
      "Nhiệt độ các ngày 5, 10, 15, 20 và 25: [28.24 10.76 27.88 14.93 25.03]\n",
      "Nhiệt độ trên trung bình: [21.18 29.97 28.24 26.88 22.88 27.41 27.88 21.04 24.21 22.41 24.32 24.58\n",
      " 25.03 27.42 27.  ]\n",
      "Nhiệt độ các ngày chẵn: [29.97 14.58 13.51 16.24 10.76 22.88 27.41 17.52 12.36 14.93 24.32 24.58\n",
      " 27.42 27.   14.18]\n",
      "Nhiệt độ các ngày lẻ: [21.18 17.65 28.24 26.88 13.7  11.29 18.65 27.88 21.04 24.21 22.41 10.93\n",
      " 25.03 10.13 10.33]\n"
     ]
    }
   ],
   "source": [
    "# Các ngày có nhiệt độ trên 20°C\n",
    "ngay_tren_20 = np.where(nhiet_do > 20)[0] + 1\n",
    "\n",
    "# Nhiệt độ của các ngày cụ thể\n",
    "ngay_can_kiem_tra = [5, 10, 15, 20, 25]\n",
    "nhiet_do_cac_ngay = nhiet_do[[d - 1 for d in ngay_can_kiem_tra]]\n",
    "\n",
    "# Nhiệt độ trên trung bình\n",
    "nhiet_do_tren_tb = nhiet_do[nhiet_do > np.mean(nhiet_do)]\n",
    "\n",
    "# Nhiệt độ của các ngày chẵn và lẻ\n",
    "nhiet_do_ngay_chan = nhiet_do[1::2]  \n",
    "nhiet_do_ngay_le = nhiet_do[0::2]  \n",
    "\n",
    "print(\"Các ngày có nhiệt độ trên 20°C:\", ngay_tren_20)\n",
    "print(\"Nhiệt độ các ngày 5, 10, 15, 20 và 25:\", nhiet_do_cac_ngay)\n",
    "print(\"Nhiệt độ trên trung bình:\", nhiet_do_tren_tb)\n",
    "print(\"Nhiệt độ các ngày chẵn:\", nhiet_do_ngay_chan)\n",
    "print(\"Nhiệt độ các ngày lẻ:\", nhiet_do_ngay_le)"
   ]
  }
 ],
 "metadata": {
  "kernelspec": {
   "display_name": "Python 3",
   "language": "python",
   "name": "python3"
  },
  "language_info": {
   "codemirror_mode": {
    "name": "ipython",
    "version": 3
   },
   "file_extension": ".py",
   "mimetype": "text/x-python",
   "name": "python",
   "nbconvert_exporter": "python",
   "pygments_lexer": "ipython3",
   "version": "3.12.0"
  }
 },
 "nbformat": 4,
 "nbformat_minor": 2
}
