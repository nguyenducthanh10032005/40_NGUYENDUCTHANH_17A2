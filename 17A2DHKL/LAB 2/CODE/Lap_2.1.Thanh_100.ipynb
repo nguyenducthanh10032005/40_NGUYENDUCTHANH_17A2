{
 "cells": [
  {
   "cell_type": "code",
   "execution_count": 5,
   "metadata": {},
   "outputs": [
    {
     "name": "stdout",
     "output_type": "stream",
     "text": [
      "Nhiệt độ trong tháng:\n",
      " [28.62 22.79 26.88 17.31 11.92 17.53 21.39 20.57 29.41 19.78 25.32 26.58\n",
      " 11.26 13.21 22.88 11.77 16.25 20.73 28.43 21.28 28.62 25.11 26.29 12.09\n",
      " 22.35 16.66 18.95 17.48 14.26 11.04]\n",
      "Trung bình nhiệt độ trong tháng là: 20.22533333333333\n"
     ]
    }
   ],
   "source": [
    "import numpy as np\n",
    "\n",
    "nhiet_do = np.round(np.random.uniform(10.0, 30.0, size = 30),2)\n",
    "\n",
    "print(\"Nhiệt độ trong tháng:\\n\",nhiet_do)\n",
    "print(\"Trung bình nhiệt độ trong tháng là:\", np.mean(nhiet_do))"
   ]
  },
  {
   "cell_type": "code",
   "execution_count": 6,
   "metadata": {},
   "outputs": [
    {
     "name": "stdout",
     "output_type": "stream",
     "text": [
      "Nhiệt độ ngày cao nhất trong tháng là: 29.41\n",
      "Nhiệt độ ngày thấp nhất trong tháng là: 11.04\n",
      "Ngày có nhiệt độ cao nhất trong tháng là: 9\n",
      "Ngày có nhiệt độ thấp nhất trong tháng là: 30\n"
     ]
    }
   ],
   "source": [
    "\n",
    "max_temp = np.max(nhiet_do)\n",
    "min_temp = np.min(nhiet_do)\n",
    "\n",
    "day_max_temp = np.argmax(nhiet_do) + 1\n",
    "day_min_temp = np.argmin(nhiet_do) + 1\n",
    "\n",
    "print(f\"Nhiệt độ ngày cao nhất trong tháng là:\", max_temp)\n",
    "print(f\"Nhiệt độ ngày thấp nhất trong tháng là:\", min_temp)\n",
    "print(f\"Ngày có nhiệt độ cao nhất trong tháng là:\", day_max_temp)\n",
    "print(f\"Ngày có nhiệt độ thấp nhất trong tháng là:\", day_min_temp)"
   ]
  },
  {
   "cell_type": "code",
   "execution_count": 7,
   "metadata": {},
   "outputs": [
    {
     "name": "stdout",
     "output_type": "stream",
     "text": [
      "Nhiệt độ chênh lệch giữa các ngày: 11\n",
      "Nhiệt độ chênh lệch co sự biến đổi nhiệt cao nhất là: 1.259999999999998\n"
     ]
    }
   ],
   "source": [
    "\n",
    "ngay_truoc = nhiet_do[:-1]\n",
    "\n",
    "ngay_sau = nhiet_do[1:]\n",
    "\n",
    "chenh_lech = ngay_sau - ngay_truoc\n",
    "\n",
    "dff_max = np.argmax(np.abs(chenh_lech))\n",
    "max_chenh_lech = chenh_lech[dff_max - 1]\n",
    "\n",
    "print(f\"Nhiệt độ chênh lệch giữa các ngày:\",dff_max)\n",
    "print(f\"Nhiệt độ chênh lệch co sự biến đổi nhiệt cao nhất là:\",max_chenh_lech)"
   ]
  },
  {
   "cell_type": "code",
   "execution_count": 8,
   "metadata": {},
   "outputs": [
    {
     "name": "stdout",
     "output_type": "stream",
     "text": [
      "Các ngày có nhiệt độ trên 20°C: [ 1  2  3  7  8  9 11 12 15 18 19 20 21 22 23 25]\n",
      "Nhiệt độ các ngày 5, 10, 15, 20 và 25: [11.92 19.78 22.88 21.28 22.35]\n",
      "Nhiệt độ trên trung bình: [28.62 22.79 26.88 21.39 20.57 29.41 25.32 26.58 22.88 20.73 28.43 21.28\n",
      " 28.62 25.11 26.29 22.35]\n",
      "Nhiệt độ các ngày chẵn: [22.79 17.31 17.53 20.57 19.78 26.58 13.21 11.77 20.73 21.28 25.11 12.09\n",
      " 16.66 17.48 11.04]\n",
      "Nhiệt độ các ngày lẻ: [28.62 26.88 11.92 21.39 29.41 25.32 11.26 22.88 16.25 28.43 28.62 26.29\n",
      " 22.35 18.95 14.26]\n"
     ]
    }
   ],
   "source": [
    "\n",
    "ngay_tren_20 = np.where(nhiet_do > 20)[0] + 1\n",
    "\n",
    "ngay_can_kiem_tra = [5, 10, 15, 20, 25]\n",
    "nhiet_do_cac_ngay = nhiet_do[[d - 1 for d in ngay_can_kiem_tra]]\n",
    "\n",
    "nhiet_do_tren_tb = nhiet_do[nhiet_do > np.mean(nhiet_do)]\n",
    "\n",
    "nhiet_do_ngay_chan = nhiet_do[1::2]  \n",
    "nhiet_do_ngay_le = nhiet_do[0::2]  \n",
    "\n",
    "print(\"Các ngày có nhiệt độ trên 20°C:\", ngay_tren_20)\n",
    "print(\"Nhiệt độ các ngày 5, 10, 15, 20 và 25:\", nhiet_do_cac_ngay)\n",
    "print(\"Nhiệt độ trên trung bình:\", nhiet_do_tren_tb)\n",
    "print(\"Nhiệt độ các ngày chẵn:\", nhiet_do_ngay_chan)\n",
    "print(\"Nhiệt độ các ngày lẻ:\", nhiet_do_ngay_le)"
   ]
  }
 ],
 "metadata": {
  "kernelspec": {
   "display_name": "Python 3",
   "language": "python",
   "name": "python3"
  },
  "language_info": {
   "codemirror_mode": {
    "name": "ipython",
    "version": 3
   },
   "file_extension": ".py",
   "mimetype": "text/x-python",
   "name": "python",
   "nbconvert_exporter": "python",
   "pygments_lexer": "ipython3",
   "version": "3.12.0"
  }
 },
 "nbformat": 4,
 "nbformat_minor": 2
}
