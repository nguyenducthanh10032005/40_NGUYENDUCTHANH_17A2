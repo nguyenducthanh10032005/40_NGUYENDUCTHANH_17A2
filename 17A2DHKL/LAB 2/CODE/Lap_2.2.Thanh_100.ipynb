{
 "cells": [
  {
   "cell_type": "code",
   "execution_count": 3,
   "metadata": {},
   "outputs": [
    {
     "ename": "FileNotFoundError",
     "evalue": "[Errno 2] No such file or directory: 'F:/Bài Tập Chương PYTHON/Bài tập chương 2/baitapchuong2/17A2DHKL/LAB 2/DATA/diem_hoc_phan.csv'",
     "output_type": "error",
     "traceback": [
      "\u001b[1;31m---------------------------------------------------------------------------\u001b[0m",
      "\u001b[1;31mFileNotFoundError\u001b[0m                         Traceback (most recent call last)",
      "Cell \u001b[1;32mIn[3], line 9\u001b[0m\n\u001b[0;32m      7\u001b[0m \u001b[38;5;66;03m# Đọc dữ liệu từ file CSV vào list\u001b[39;00m\n\u001b[0;32m      8\u001b[0m data \u001b[38;5;241m=\u001b[39m []\n\u001b[1;32m----> 9\u001b[0m \u001b[38;5;28;01mwith\u001b[39;00m \u001b[38;5;28;43mopen\u001b[39;49m\u001b[43m(\u001b[49m\u001b[43mfile_path\u001b[49m\u001b[43m,\u001b[49m\u001b[43m \u001b[49m\u001b[38;5;124;43m'\u001b[39;49m\u001b[38;5;124;43mr\u001b[39;49m\u001b[38;5;124;43m'\u001b[39;49m\u001b[43m,\u001b[49m\u001b[43m \u001b[49m\u001b[43mencoding\u001b[49m\u001b[38;5;241;43m=\u001b[39;49m\u001b[38;5;124;43m'\u001b[39;49m\u001b[38;5;124;43mutf-8\u001b[39;49m\u001b[38;5;124;43m'\u001b[39;49m\u001b[43m)\u001b[49m \u001b[38;5;28;01mas\u001b[39;00m file:\n\u001b[0;32m     10\u001b[0m     reader \u001b[38;5;241m=\u001b[39m csv\u001b[38;5;241m.\u001b[39mreader(file)\n\u001b[0;32m     11\u001b[0m     headers \u001b[38;5;241m=\u001b[39m \u001b[38;5;28mnext\u001b[39m(reader)  \u001b[38;5;66;03m# Bỏ qua dòng tiêu đề\u001b[39;00m\n",
      "File \u001b[1;32m~\\AppData\\Roaming\\Python\\Python312\\site-packages\\IPython\\core\\interactiveshell.py:324\u001b[0m, in \u001b[0;36m_modified_open\u001b[1;34m(file, *args, **kwargs)\u001b[0m\n\u001b[0;32m    317\u001b[0m \u001b[38;5;28;01mif\u001b[39;00m file \u001b[38;5;129;01min\u001b[39;00m {\u001b[38;5;241m0\u001b[39m, \u001b[38;5;241m1\u001b[39m, \u001b[38;5;241m2\u001b[39m}:\n\u001b[0;32m    318\u001b[0m     \u001b[38;5;28;01mraise\u001b[39;00m \u001b[38;5;167;01mValueError\u001b[39;00m(\n\u001b[0;32m    319\u001b[0m         \u001b[38;5;124mf\u001b[39m\u001b[38;5;124m\"\u001b[39m\u001b[38;5;124mIPython won\u001b[39m\u001b[38;5;124m'\u001b[39m\u001b[38;5;124mt let you open fd=\u001b[39m\u001b[38;5;132;01m{\u001b[39;00mfile\u001b[38;5;132;01m}\u001b[39;00m\u001b[38;5;124m by default \u001b[39m\u001b[38;5;124m\"\u001b[39m\n\u001b[0;32m    320\u001b[0m         \u001b[38;5;124m\"\u001b[39m\u001b[38;5;124mas it is likely to crash IPython. If you know what you are doing, \u001b[39m\u001b[38;5;124m\"\u001b[39m\n\u001b[0;32m    321\u001b[0m         \u001b[38;5;124m\"\u001b[39m\u001b[38;5;124myou can use builtins\u001b[39m\u001b[38;5;124m'\u001b[39m\u001b[38;5;124m open.\u001b[39m\u001b[38;5;124m\"\u001b[39m\n\u001b[0;32m    322\u001b[0m     )\n\u001b[1;32m--> 324\u001b[0m \u001b[38;5;28;01mreturn\u001b[39;00m \u001b[43mio_open\u001b[49m\u001b[43m(\u001b[49m\u001b[43mfile\u001b[49m\u001b[43m,\u001b[49m\u001b[43m \u001b[49m\u001b[38;5;241;43m*\u001b[39;49m\u001b[43margs\u001b[49m\u001b[43m,\u001b[49m\u001b[43m \u001b[49m\u001b[38;5;241;43m*\u001b[39;49m\u001b[38;5;241;43m*\u001b[39;49m\u001b[43mkwargs\u001b[49m\u001b[43m)\u001b[49m\n",
      "\u001b[1;31mFileNotFoundError\u001b[0m: [Errno 2] No such file or directory: 'F:/Bài Tập Chương PYTHON/Bài tập chương 2/baitapchuong2/17A2DHKL/LAB 2/DATA/diem_hoc_phan.csv'"
     ]
    }
   ],
   "source": [
    "import csv\n",
    "import numpy as np\n",
    "\n",
    "# 1 Đọc Dữ Liệu Từ File CSV\n",
    "file_path = 'F:/Bài Tập Chương PYTHON/Bài tập chương 2/baitapchuong2/17A2DHKL/LAB 2/DATA/diem_hoc_phan.csv'\n",
    "\n",
    "# Đọc dữ liệu từ file CSV vào list\n",
    "data = []\n",
    "with open(file_path, 'r', encoding='utf-8') as file:\n",
    "    reader = csv.reader(file)\n",
    "    headers = next(reader)  # Bỏ qua dòng tiêu đề\n",
    "    for row in reader:\n",
    "        data.append(row)\n",
    "\n",
    "# Chuyển đổi sang NumPy array\n",
    "data_array = np.array(data)\n",
    "ids = data_array[:, 0]  # ID sinh viên\n",
    "names = data_array[:, 1]  # Tên sinh viên\n",
    "scores = data_array[:, 2:].astype(float)  # Điểm các học phần (chuyển sang kiểu float)\n",
    "\n",
    "# 2. Quy đổi điểm từ thang 10 sang thang tín chỉ\n",
    "def convert_to_credit(score):\n",
    "    if 8.5 <= score <= 10:\n",
    "        return 'A'\n",
    "    elif 8.0 <= score < 8.5:\n",
    "        return 'B+'\n",
    "    elif 7.0 <= score < 8.0:\n",
    "        return 'B'\n",
    "    elif 6.5 <= score < 7.0:\n",
    "        return 'C+'\n",
    "    elif 5.5 <= score < 6.5:\n",
    "        return 'C'\n",
    "    elif 5.0 <= score < 5.5:\n",
    "        return 'D+'\n",
    "    elif 4.0 <= score < 5.0:\n",
    "        return 'D'\n",
    "    else:\n",
    "        return 'F'\n",
    "\n",
    "# Áp dụng quy đổi điểm cho từng học phần\n",
    "converted_scores = np.vectorize(convert_to_credit)(scores)\n",
    "\n",
    "# 3. Chia tách Dữ Liệu theo học phần\n",
    "hp1_scores = scores[:, 0]\n",
    "hp2_scores = scores[:, 1]\n",
    "hp3_scores = scores[:, 2]\n",
    "\n",
    "# 4. Phân tích dữ liệu theo từng học phần\n",
    "def analyze_scores(scores, hp_name):\n",
    "    total = np.sum(scores)\n",
    "    mean = np.mean(scores)\n",
    "    std_dev = np.std(scores)\n",
    "    print(f\"Học phần {hp_name}:\")\n",
    "    print(f\"  Tổng điểm: {total}\")\n",
    "    print(f\"  Điểm trung bình: {mean:.2f}\")\n",
    "    print(f\"  Độ lệch chuẩn: {std_dev:.2f}\")\n",
    "    print()\n",
    "\n",
    "analyze_scores(hp1_scores, \"HP1\")\n",
    "analyze_scores(hp2_scores, \"HP2\")\n",
    "analyze_scores(hp3_scores, \"HP3\")\n",
    "\n",
    "# 5. Phân tích điểm tổng hợp\n",
    "all_converted_scores = converted_scores.flatten()\n",
    "unique_grades, grade_counts = np.unique(all_converted_scores, return_counts=True)\n",
    "\n",
    "print(\"Phân tích điểm tổng hợp:\")\n",
    "for grade, count in zip(unique_grades, grade_counts):\n",
    "    print(f\"  Điểm {grade}: {count} sinh viên\")\n"
   ]
  }
 ],
 "metadata": {
  "kernelspec": {
   "display_name": "Python 3",
   "language": "python",
   "name": "python3"
  },
  "language_info": {
   "codemirror_mode": {
    "name": "ipython",
    "version": 3
   },
   "file_extension": ".py",
   "mimetype": "text/x-python",
   "name": "python",
   "nbconvert_exporter": "python",
   "pygments_lexer": "ipython3",
   "version": "3.12.0"
  }
 },
 "nbformat": 4,
 "nbformat_minor": 2
}
