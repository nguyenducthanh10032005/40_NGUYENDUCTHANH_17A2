{
 "cells": [
  {
   "cell_type": "code",
   "execution_count": 2,
   "metadata": {},
   "outputs": [],
   "source": [
    "import numpy as np\n",
    "import pandas as pd"
   ]
  },
  {
   "cell_type": "code",
   "execution_count": 3,
   "metadata": {},
   "outputs": [
    {
     "name": "stdout",
     "output_type": "stream",
     "text": [
      "Kết quả ghép ser1 và ser2:\n",
      "   Square of ser1  Random values from ser2\n",
      "0               0                 0.097928\n",
      "1               1                 1.652126\n",
      "2               4                 2.006638\n",
      "3               9                 3.231885\n",
      "4              16                 4.823484\n",
      "5              25                 5.289344\n",
      "6              36                 6.492744\n",
      "7              49                 7.115271\n",
      "8              64                 8.500090\n",
      "9              81                 9.702477\n"
     ]
    }
   ],
   "source": [
    "# Tạo dữ liệu\n",
    "ser1 = pd.Series(range(10))\n",
    "ser2 = pd.Series(range(10) + np.random.random(10))  # Thêm giá trị ngẫu nhiên\n",
    "\n",
    "# Lấy giá trị bình phương từ ser1\n",
    "square_ser1 = ser1**2\n",
    "\n",
    "# Ghép ser1 (bình phương) và ser2\n",
    "combined_series = pd.concat([square_ser1, ser2], axis=1)\n",
    "combined_series.columns = ['Square of ser1', 'Random values from ser2']\n",
    "\n",
    "print(\"Kết quả ghép ser1 và ser2:\")\n",
    "print(combined_series)"
   ]
  }
 ],
 "metadata": {
  "kernelspec": {
   "display_name": "Python 3",
   "language": "python",
   "name": "python3"
  },
  "language_info": {
   "codemirror_mode": {
    "name": "ipython",
    "version": 3
   },
   "file_extension": ".py",
   "mimetype": "text/x-python",
   "name": "python",
   "nbconvert_exporter": "python",
   "pygments_lexer": "ipython3",
   "version": "3.12.0"
  }
 },
 "nbformat": 4,
 "nbformat_minor": 2
}
