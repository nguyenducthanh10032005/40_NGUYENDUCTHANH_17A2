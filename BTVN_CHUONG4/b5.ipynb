{
 "cells": [
  {
   "cell_type": "code",
   "execution_count": 2,
   "metadata": {},
   "outputs": [],
   "source": [
    "import pandas as pd\n",
    "import numpy as np"
   ]
  },
  {
   "cell_type": "code",
   "execution_count": 3,
   "metadata": {},
   "outputs": [
    {
     "name": "stdout",
     "output_type": "stream",
     "text": [
      "Min: 1.3236498494823916\n",
      "25th percentile: 6.1376283193809655\n",
      "Median: 8.955485115807797\n",
      "75th percentile: 13.874720472980162\n",
      "Max: 20.51673390337554\n"
     ]
    }
   ],
   "source": [
    "ser = pd.Series(np.random.normal(10, 5, 25))\n",
    "\n",
    "# 1. Giá trị tối thiểu\n",
    "min_val = ser.min()\n",
    "# 2. Phần trăm 25\n",
    "percentile_25 = ser.quantile(0.25)\n",
    "# 3. Trung vị\n",
    "median = ser.median()\n",
    "# 4. Phần trăm 75\n",
    "percentile_75 = ser.quantile(0.75)\n",
    "# 5. Giá trị tối đa\n",
    "max_val = ser.max()\n",
    "\n",
    "print(\"Min:\", min_val)\n",
    "print(\"25th percentile:\", percentile_25)\n",
    "print(\"Median:\", median)\n",
    "print(\"75th percentile:\", percentile_75)\n",
    "print(\"Max:\", max_val)"
   ]
  }
 ],
 "metadata": {
  "kernelspec": {
   "display_name": "Python 3",
   "language": "python",
   "name": "python3"
  },
  "language_info": {
   "codemirror_mode": {
    "name": "ipython",
    "version": 3
   },
   "file_extension": ".py",
   "mimetype": "text/x-python",
   "name": "python",
   "nbconvert_exporter": "python",
   "pygments_lexer": "ipython3",
   "version": "3.12.0"
  }
 },
 "nbformat": 4,
 "nbformat_minor": 2
}
