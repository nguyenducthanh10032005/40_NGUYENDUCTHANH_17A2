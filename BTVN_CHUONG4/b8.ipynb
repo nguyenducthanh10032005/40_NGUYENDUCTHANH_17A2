{
 "cells": [
  {
   "cell_type": "code",
   "execution_count": 2,
   "metadata": {},
   "outputs": [],
   "source": [
    "import numpy as np\n",
    "import pandas as pd"
   ]
  },
  {
   "cell_type": "code",
   "execution_count": 3,
   "metadata": {},
   "outputs": [
    {
     "name": "stdout",
     "output_type": "stream",
     "text": [
      "   0  1  2  3  4\n",
      "0  6  7  9  9  7\n",
      "1  2  9  3  6  1\n",
      "2  3  2  7  9  1\n",
      "3  5  7  4  4  2\n",
      "4  6  4  9  8  6\n",
      "5  6  9  5  9  1\n",
      "6  4  3  3  8  9\n"
     ]
    }
   ],
   "source": [
    "ser = pd.Series(np.random.randint(1, 10, 35))\n",
    "\n",
    "# Định hình lại thành DataFrame 7x5\n",
    "df = pd.DataFrame(ser.values.reshape(7, 5))\n",
    "print(df)"
   ]
  }
 ],
 "metadata": {
  "kernelspec": {
   "display_name": "Python 3",
   "language": "python",
   "name": "python3"
  },
  "language_info": {
   "codemirror_mode": {
    "name": "ipython",
    "version": 3
   },
   "file_extension": ".py",
   "mimetype": "text/x-python",
   "name": "python",
   "nbconvert_exporter": "python",
   "pygments_lexer": "ipython3",
   "version": "3.12.0"
  }
 },
 "nbformat": 4,
 "nbformat_minor": 2
}
